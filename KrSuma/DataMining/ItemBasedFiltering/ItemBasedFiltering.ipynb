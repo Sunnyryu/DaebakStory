{
 "cells": [
  {
   "cell_type": "code",
   "execution_count": null,
   "metadata": {
    "collapsed": true
   },
   "outputs": [],
   "source": [
    "\"\"\"\n",
    "Item-based collaborative filtering recommendation system\n",
    "\"\"\"\n",
    "\n",
    "# userRatings is the table of ratings:\n",
    "# column is the items\n",
    "# row is the users\n",
    "from math import sqrt\n",
    "\n",
    "def computeSimilarity(item1, item2, userRatings):\n",
    "    averages = {}\n",
    "    for key, ratings in userRatings.items():\n",
    "        averages[key] = (float(sum(ratings.values())) / len(ratings.values))\n",
    "\n",
    "    numerator = 0\n",
    "    denominator1 = 0\n",
    "    denominator2 = 0\n",
    "    for user, ratings in userRatings.items():\n",
    "        if item1 in ratings and item2 in ratings:\n",
    "            avg = averages[user]\n",
    "            numerator += (ratings[item1]-avg) * (ratings[item2] - avg)\n",
    "            denominator1 += (ratings[item1]-avg)**2\n",
    "            denominator2 += (ratings[item2]-avg)**2\n",
    "    return numerator / (sqrt(denominator1) * sqrt(denominator2))"
   ]
  },
  {
   "cell_type": "code",
   "execution_count": null,
   "outputs": [],
   "source": [
    "'''\n",
    "Slope-one predictors collaborative filtering\n",
    "'''\n",
    "def slopeOneRecommendations(self, userRatings):\n",
    "      recommendations = {}\n",
    "      frequencies = {}\n",
    "      for (userItem, userRating) in userRatings.items():\n",
    "         for (diffItem, diffRatings) in self.deviations.items():\n",
    "            if diffItem not in userRatings and \\\n",
    "               userItem in self.deviations[diffItem]:\n",
    "               freq = self.frequencies[diffItem][userItem]\n",
    "               recommendations.setdefault(diffItem, 0.0)\n",
    "               frequencies.setdefault(diffItem, 0)\n",
    "               recommendations[diffItem] += (diffRatings[userItem] + userRating) * freq\n",
    "               frequencies[diffItem] += freq\n",
    "    '''  \n",
    "      recommendations =  [(self.convertProductID2name(k),\n",
    "                           v / frequencies[k])   \n",
    "                          for (k, v) in recommendations.items()]\n",
    "\n",
    "      recommendations.sort(key=lambda artistTuple: artistTuple[1],\n",
    "                           reverse = True)\n",
    "    '''\n",
    "      return recommendations\n"
   ],
   "metadata": {
    "collapsed": false,
    "pycharm": {
     "name": "#%%\n"
    }
   }
  }
 ],
 "metadata": {
  "kernelspec": {
   "display_name": "Python 3",
   "language": "python",
   "name": "python3"
  },
  "language_info": {
   "codemirror_mode": {
    "name": "ipython",
    "version": 2
   },
   "file_extension": ".py",
   "mimetype": "text/x-python",
   "name": "python",
   "nbconvert_exporter": "python",
   "pygments_lexer": "ipython2",
   "version": "2.7.6"
  },
  "pycharm": {
   "stem_cell": {
    "cell_type": "raw",
    "source": [],
    "metadata": {
     "collapsed": false
    }
   }
  }
 },
 "nbformat": 4,
 "nbformat_minor": 0
}